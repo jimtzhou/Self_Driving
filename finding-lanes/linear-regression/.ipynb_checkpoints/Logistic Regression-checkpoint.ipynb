{
 "cells": [
  {
   "cell_type": "code",
   "execution_count": 2,
   "metadata": {},
   "outputs": [],
   "source": [
    "import numpy as np\n",
    "import matplotlib.pyplot as plt\n",
    "\n"
   ]
  },
  {
   "cell_type": "code",
   "execution_count": 15,
   "metadata": {},
   "outputs": [],
   "source": [
    "def draw(x1,x2):\n",
    "    ln = plt.plot (x1,x2)\n",
    "\n",
    "def sigmoid(score):\n",
    "    return 1/(1+np.exp(-score))\n",
    "\n",
    "def calculate_error(line_parameters,points,y):\n",
    "    m = points.shape[0]\n",
    "    p = sigmoid(points*line_parameters)\n",
    "    cross_entropy = -(1/m)*(np.log(p).T*y + np.log(1-p).T*(1-y))\n",
    "    return cross_entropy"
   ]
  },
  {
   "cell_type": "code",
   "execution_count": 19,
   "metadata": {},
   "outputs": [],
   "source": [
    "n_pts = 10\n",
    "\n",
    "np.random.seed(0)\n",
    "bias = np.ones(n_pts)\n",
    "random_x1_values = np.random.normal(10,2,n_pts)\n",
    "random_x2_values = np.random.normal(12,2,n_pts)\n",
    "top_region = np.array([random_x1_values,random_x2_values, bias]).T\n",
    "bottom_region = np.array([np.random.normal(5,2,n_pts), np.random.normal(6,2,n_pts), bias]).T\n",
    "all_points = np.vstack((top_region, bottom_region))\n",
    "\n",
    "w1 = -0.3\n",
    "w2 = -0.2\n",
    "b = 3.5\n",
    "\n",
    "line_parameters = np.matrix([w1,w2,b]).T \n",
    "x1 = np.array([bottom_region[:,0].min(),top_region[:,0].max()])\n",
    "x2 = - b/ (w2+x1*(-w1/w2))\n",
    "\n",
    "y = np.array([np.zeros(n_pts), np.ones(n_pts)]).reshape(n_pts*2,1)\n"
   ]
  },
  {
   "cell_type": "code",
   "execution_count": null,
   "metadata": {},
   "outputs": [],
   "source": []
  },
  {
   "cell_type": "code",
   "execution_count": 22,
   "metadata": {},
   "outputs": [
    {
     "data": {
      "image/png": "[encoded data removed]",
      "text/plain": [
       "<Figure size 288x288 with 1 Axes>"
      ]
     },
     "metadata": {
      "needs_background": "light"
     },
     "output_type": "display_data"
    }
   ],
   "source": [
    "_, ax = plt.subplots(figsize = (4,4))\n",
    "ax.scatter(top_region[:,0],top_region[:,1], color ='r')\n",
    "ax.scatter(bottom_region[:,0],bottom_region[:,1], color ='b')\n",
    "draw(x1,x2)\n",
    "plt.show()"
   ]
  },
  {
   "cell_type": "code",
   "execution_count": 23,
   "metadata": {},
   "outputs": [
    {
     "name": "stdout",
     "output_type": "stream",
     "text": [
      "[[0.28458792]]\n"
     ]
    }
   ],
   "source": [
    "print(calculate_error(line_parameters, all_points, y))"
   ]
  },
  {
   "cell_type": "code",
   "execution_count": 136,
   "metadata": {},
   "outputs": [
    {
     "name": "stdout",
     "output_type": "stream",
     "text": [
      "(2, 3)\n"
     ]
    }
   ],
   "source": [
    "rand_array = np.array([[1,2,3],[5,2,4]])\n",
    "print(rand_array.shape)"
   ]
  },
  {
   "cell_type": "code",
   "execution_count": null,
   "metadata": {},
   "outputs": [],
   "source": []
  },
  {
   "cell_type": "code",
   "execution_count": null,
   "metadata": {},
   "outputs": [],
   "source": []
  },
  {
   "cell_type": "code",
   "execution_count": null,
   "metadata": {},
   "outputs": [],
   "source": []
  },
  {
   "cell_type": "code",
   "execution_count": null,
   "metadata": {},
   "outputs": [],
   "source": []
  },
  {
   "cell_type": "code",
   "execution_count": null,
   "metadata": {},
   "outputs": [],
   "source": []
  }
 ],
 "metadata": {
  "kernelspec": {
   "display_name": "Python 3",
   "language": "python",
   "name": "python3"
  },
  "language_info": {
   "codemirror_mode": {
    "name": "ipython",
    "version": 3
   },
   "file_extension": ".py",
   "mimetype": "text/x-python",
   "name": "python",
   "nbconvert_exporter": "python",
   "pygments_lexer": "ipython3",
   "version": "3.7.4"
  }
 },
 "nbformat": 4,
 "nbformat_minor": 4
}
